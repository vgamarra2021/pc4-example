{
 "cells": [
  {
   "cell_type": "code",
   "execution_count": 1,
   "id": "cb7f9901",
   "metadata": {},
   "outputs": [
    {
     "name": "stdout",
     "output_type": "stream",
     "text": [
      "Requirement already satisfied: flask in c:\\users\\user\\appdata\\local\\programs\\python\\python39\\lib\\site-packages (2.2.2)\n",
      "Requirement already satisfied: click>=8.0 in c:\\users\\user\\appdata\\local\\programs\\python\\python39\\lib\\site-packages (from flask) (8.1.3)\n",
      "Requirement already satisfied: Werkzeug>=2.2.2 in c:\\users\\user\\appdata\\local\\programs\\python\\python39\\lib\\site-packages (from flask) (2.2.2)\n",
      "Requirement already satisfied: Jinja2>=3.0 in c:\\users\\user\\appdata\\local\\programs\\python\\python39\\lib\\site-packages (from flask) (3.1.2)\n",
      "Requirement already satisfied: itsdangerous>=2.0 in c:\\users\\user\\appdata\\local\\programs\\python\\python39\\lib\\site-packages (from flask) (2.1.2)\n",
      "Requirement already satisfied: importlib-metadata>=3.6.0 in c:\\users\\user\\appdata\\local\\programs\\python\\python39\\lib\\site-packages (from flask) (5.0.0)\n",
      "Requirement already satisfied: colorama in c:\\users\\user\\appdata\\local\\programs\\python\\python39\\lib\\site-packages (from click>=8.0->flask) (0.4.6)\n",
      "Requirement already satisfied: zipp>=0.5 in c:\\users\\user\\appdata\\local\\programs\\python\\python39\\lib\\site-packages (from importlib-metadata>=3.6.0->flask) (3.10.0)\n",
      "Requirement already satisfied: MarkupSafe>=2.0 in c:\\users\\user\\appdata\\local\\programs\\python\\python39\\lib\\site-packages (from Jinja2>=3.0->flask) (2.1.1)\n"
     ]
    }
   ],
   "source": [
    "!pip install flask"
   ]
  },
  {
   "cell_type": "code",
   "execution_count": 2,
   "id": "e14777c0",
   "metadata": {},
   "outputs": [],
   "source": [
    "#LIBRARIES\n",
    "from flask import Flask, jsonify\n",
    "import threading"
   ]
  },
  {
   "cell_type": "code",
   "execution_count": 3,
   "id": "27253806",
   "metadata": {},
   "outputs": [],
   "source": [
    "#APP\n",
    "def create_app():\n",
    "    app = Flask(__name__)\n",
    "    return app\n",
    "\n",
    "app = create_app()\n",
    "\n",
    "def validateToken(token):\n",
    "    return token == '123456'\n",
    "\n",
    "@app.route('/account', methods=['GET'])\n",
    "def get_account():\n",
    "    if(validateToken(request.headers.get('token'))): \n",
    "        response = {\n",
    "            'nombre': 'Carlos',\n",
    "            'numero_cuenta':'51232165798',\n",
    "            'cci':'456879451232165798',\n",
    "            'saldo': 5000.50\n",
    "        }\n",
    "        return jsonify(response)\n",
    "    else:\n",
    "        return 'Acceso Denegado', 401\n",
    "    \n",
    "\n",
    "@app.route('/movements', methods=['GET'])\n",
    "def get_movements():\n",
    "    if(validateToken(request.headers.get('token'))): \n",
    "        response = {\n",
    "            'movements': [\n",
    "                {'cargo':'Tottus' , 'date': 1670709618000 , 'monto': 500.45 },\n",
    "                {'cargo':'Metro' , 'date': 1670709618000 , 'monto': 600.00 },\n",
    "                {'cargo':'Cineplanet' , 'date': 1670709618000 , 'monto': 200.50 }\n",
    "            ]\n",
    "        }\n",
    "        return jsonify(response)\n",
    "    else:\n",
    "        return 'Acceso Denegado', 401\n",
    "\n"
   ]
  },
  {
   "cell_type": "code",
   "execution_count": 4,
   "id": "72b6c8fe",
   "metadata": {},
   "outputs": [
    {
     "name": "stdout",
     "output_type": "stream",
     "text": [
      " * Serving Flask app '__main__'\n",
      " * Debug mode: off\n"
     ]
    },
    {
     "name": "stderr",
     "output_type": "stream",
     "text": [
      "WARNING: This is a development server. Do not use it in a production deployment. Use a production WSGI server instead.\n",
      " * Running on http://127.0.0.1:5000\n",
      "Press CTRL+C to quit\n"
     ]
    }
   ],
   "source": [
    "#RUN SERVER\n",
    "t = threading.Thread(target=app.run, kwargs={\"use_reloader\": False})\n",
    "t.start()"
   ]
  }
 ],
 "metadata": {
  "kernelspec": {
   "display_name": "Python 3 (ipykernel)",
   "language": "python",
   "name": "python3"
  },
  "language_info": {
   "codemirror_mode": {
    "name": "ipython",
    "version": 3
   },
   "file_extension": ".py",
   "mimetype": "text/x-python",
   "name": "python",
   "nbconvert_exporter": "python",
   "pygments_lexer": "ipython3",
   "version": "3.9.10"
  },
  "vscode": {
   "interpreter": {
    "hash": "cf92aa13fedf815d5c8dd192b8d835913fde3e8bc926b2a0ad6cc74ef2ba3ca2"
   }
  }
 },
 "nbformat": 4,
 "nbformat_minor": 5
}
